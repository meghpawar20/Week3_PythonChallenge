{
 "cells": [
  {
   "cell_type": "markdown",
   "id": "6dc5daab",
   "metadata": {},
   "source": [
    "# CosmoAI - Python Challenge\n",
    "\n",
    "\n",
    "#  Submitted by Meghana Anil Pawar"
   ]
  },
  {
   "cell_type": "markdown",
   "id": "7ec31795",
   "metadata": {},
   "source": [
    "# Q1\n",
    "The parameter weekday is True if it is a weekday, and the parameter vacation is True if we are on vacation. We sleep in if it is not a weekday or we're on vacation. Return True if we sleep in.\n",
    "\n",
    "sleep_in(False, False) → True\n",
    "sleep_in(True, False) → False\n",
    "sleep_in(False, True) → True"
   ]
  },
  {
   "cell_type": "code",
   "execution_count": 3,
   "id": "ea627305",
   "metadata": {},
   "outputs": [
    {
     "name": "stdout",
     "output_type": "stream",
     "text": [
      "True\n",
      "False\n",
      "True\n"
     ]
    }
   ],
   "source": [
    "def sleep_in(weekday, vacation):\n",
    "    if vacation==True or weekday==False:\n",
    "        return True\n",
    "    else:\n",
    "        return False\n",
    "\n",
    "#Test Cases\n",
    "print(sleep_in(False, False))\n",
    "print(sleep_in(True, False))\n",
    "print(sleep_in(False, True) )"
   ]
  },
  {
   "cell_type": "markdown",
   "id": "bdd1ca4f",
   "metadata": {},
   "source": [
    "# Q2\n",
    "\n",
    "We have a loud talking parrot. The \"hour\" parameter is the current hour time in the range 0..23. We are in trouble if the parrot is talking and the hour is before 7 or after 20. Return True if we are in trouble.\n",
    "\n",
    "parrot_trouble(True, 6) → True\n",
    "parrot_trouble(True, 7) → False\n",
    "parrot_trouble(False, 6) → False"
   ]
  },
  {
   "cell_type": "code",
   "execution_count": 5,
   "id": "d217303d",
   "metadata": {},
   "outputs": [
    {
     "name": "stdout",
     "output_type": "stream",
     "text": [
      "True\n",
      "False\n",
      "False\n"
     ]
    }
   ],
   "source": [
    "def parrot_trouble(talking, hour):\n",
    "    if talking==True and (hour<7 or hour>20):\n",
    "        return True\n",
    "    return False\n",
    "#Test Cases\n",
    "print(parrot_trouble(True, 6) )\n",
    "print(parrot_trouble(True, 7))\n",
    "print(parrot_trouble(False, 6) )"
   ]
  },
  {
   "cell_type": "markdown",
   "id": "f39e427e",
   "metadata": {},
   "source": [
    "# Q3\n",
    "Given 2 ints, a and b, return True if one if them is 10 or if their sum is 10.\n",
    "\n",
    "makes10(9, 10) → True\n",
    "makes10(9, 9) → False\n",
    "makes10(1, 9) → True"
   ]
  },
  {
   "cell_type": "code",
   "execution_count": 6,
   "id": "a8fa1607",
   "metadata": {},
   "outputs": [
    {
     "name": "stdout",
     "output_type": "stream",
     "text": [
      "True\n",
      "False\n",
      "True\n"
     ]
    }
   ],
   "source": [
    "def makes10(a, b):\n",
    "    if a==10 or b==10 or a+b==10:\n",
    "        return True\n",
    "    return False\n",
    "\n",
    "print(makes10(9, 10) )\n",
    "print(makes10(9, 9))\n",
    "print(makes10(1, 9))"
   ]
  },
  {
   "cell_type": "markdown",
   "id": "9ff3256f",
   "metadata": {},
   "source": [
    "# Q4\n",
    "Write a Python program to print the following string in a specific format (see the output).\n",
    "\n",
    "\"Twinkle, twinkle, little star, How I wonder what you are! Up above the world so high, Like a diamond in the sky. Twinkle, twinkle, little star, How I wonder what you are\"\n",
    "\n",
    "Twinkle, twinkle, little star,\n",
    "\n",
    "\tHow I wonder what you are!\n",
    "    \n",
    "    \tUp above the world so high,\n",
    "        \n",
    "\t\t  Like a diamond in the sky. \n",
    "        \n",
    "Twinkle, twinkle, little star,\n",
    "\n",
    "\tHow I wonder what you are"
   ]
  },
  {
   "cell_type": "code",
   "execution_count": 60,
   "id": "b77eca2d",
   "metadata": {},
   "outputs": [
    {
     "name": "stdout",
     "output_type": "stream",
     "text": [
      "Twinkle, twinkle, little star, \n",
      " How i wonder what you are! \n",
      "  Up above the world so high, \n",
      "   Like a diamond in the sky. \n",
      "Twinkle, twinkle, little star, \n",
      "     How i wonder what you are\n"
     ]
    }
   ],
   "source": [
    "import re\n",
    "txt=\"Twinkle, twinkle, little star, How i wonder what you are! Up above the world so high, Like a diamond in the sky. Twinkle, twinkle, little star, How i wonder what you are\"\n",
    "matches1=re.findall('[A-Z]',txt)\n",
    "li=list(matches1)\n",
    "matches2=re.split('[A-Z]',txt)\n",
    "mi=list(matches2)\n",
    "mi.remove(\"\")\n",
    "\n",
    "for i,m in enumerate(li):\n",
    "    if li[i]!=\"T\":\n",
    "        for j in range(i):\n",
    "            print(\" \",end=\"\")\n",
    "        ans=m\n",
    "        ans+=mi[i]\n",
    "        print(ans)\n",
    "    else:\n",
    "        ans=m\n",
    "        ans+=mi[i]\n",
    "        print(ans)"
   ]
  },
  {
   "cell_type": "markdown",
   "id": "7c2fc841",
   "metadata": {},
   "source": [
    "# Q5\n",
    "Write a Python program to find out what version of Python you are using."
   ]
  },
  {
   "cell_type": "code",
   "execution_count": 13,
   "id": "c28ebba0",
   "metadata": {},
   "outputs": [
    {
     "name": "stdout",
     "output_type": "stream",
     "text": [
      "Python Version: 3.10.6\n"
     ]
    }
   ],
   "source": [
    "import platform\n",
    "print(\"Python Version:\",platform.python_version())"
   ]
  },
  {
   "cell_type": "markdown",
   "id": "1e183c3f",
   "metadata": {},
   "source": [
    "# Q6\n",
    "Write a Python program that calculates the area of a circle based on the radius entered by the user.\n",
    "\n",
    "\"\"\"sample\"\"\"\n",
    "Input:r = 1.1\n",
    "Output:Area = 3.8013271108436504"
   ]
  },
  {
   "cell_type": "code",
   "execution_count": 15,
   "id": "dd4bdd98",
   "metadata": {},
   "outputs": [
    {
     "name": "stdout",
     "output_type": "stream",
     "text": [
      "Enter the radius:1.1\n",
      "Area= 3.7994000000000008\n"
     ]
    }
   ],
   "source": [
    "r=float(input(\"Enter the radius:\"))\n",
    "print(\"Area=\",(3.14*r*r))"
   ]
  },
  {
   "cell_type": "markdown",
   "id": "30b4c03b",
   "metadata": {},
   "source": [
    "# Q7\n",
    "Write a Python program that accepts the user's first and last name and prints them in reverse order with a space between them."
   ]
  },
  {
   "cell_type": "code",
   "execution_count": 17,
   "id": "77c0ccef",
   "metadata": {},
   "outputs": [
    {
     "name": "stdout",
     "output_type": "stream",
     "text": [
      "Enter the first name:megh\n",
      "Enter the last name:pawar\n",
      "rawap hgem\n"
     ]
    }
   ],
   "source": [
    "fname=input(\"Enter the first name:\")\n",
    "lname=input(\"Enter the last name:\")\n",
    "ans=fname+\" \"+lname\n",
    "ans=ans[::-1]\n",
    "print(ans)"
   ]
  },
  {
   "cell_type": "markdown",
   "id": "4de7d0a1",
   "metadata": {},
   "source": [
    "# Q8\n",
    "Write a Python program that accepts a sequence of comma-separated numbers from the user and generates a list and a tuple of those numbers.\n"
   ]
  },
  {
   "cell_type": "code",
   "execution_count": 21,
   "id": "292e1529",
   "metadata": {},
   "outputs": [
    {
     "name": "stdout",
     "output_type": "stream",
     "text": [
      "enter:1,2,3\n",
      "['1', '2', '3']\n",
      "('1', '2', '3')\n"
     ]
    }
   ],
   "source": [
    "li=input(\"enter:\").split(\",\")\n",
    "print(li)\n",
    "print(tuple(li))"
   ]
  },
  {
   "cell_type": "markdown",
   "id": "4abce77a",
   "metadata": {},
   "source": [
    "# Q9\n",
    "Write a Python program to display the first and last colors from the following list.\n",
    "color_list = [\"Red\",\"Green\",\"White\" ,\"Black\"]"
   ]
  },
  {
   "cell_type": "code",
   "execution_count": 23,
   "id": "c3c65a95",
   "metadata": {},
   "outputs": [
    {
     "name": "stdout",
     "output_type": "stream",
     "text": [
      " First Color: Red\n",
      " Last Color: Black\n"
     ]
    }
   ],
   "source": [
    "color_list = [\"Red\",\"Green\",\"White\" ,\"Black\"]\n",
    "print(\" First Color:\",color_list[0])\n",
    "print(\" Last Color:\",color_list[-1])"
   ]
  },
  {
   "cell_type": "code",
   "execution_count": null,
   "id": "13fa5ef8",
   "metadata": {},
   "outputs": [],
   "source": []
  }
 ],
 "metadata": {
  "kernelspec": {
   "display_name": "Python 3 (ipykernel)",
   "language": "python",
   "name": "python3"
  },
  "language_info": {
   "codemirror_mode": {
    "name": "ipython",
    "version": 3
   },
   "file_extension": ".py",
   "mimetype": "text/x-python",
   "name": "python",
   "nbconvert_exporter": "python",
   "pygments_lexer": "ipython3",
   "version": "3.10.6"
  }
 },
 "nbformat": 4,
 "nbformat_minor": 5
}
